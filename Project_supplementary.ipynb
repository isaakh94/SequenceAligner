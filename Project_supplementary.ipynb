{
 "cells": [
  {
   "cell_type": "markdown",
   "metadata": {},
   "source": [
    "# Algorithms in Bioinformatics project, Supplementary Notebook\n",
    "## Testing the Aligner"
   ]
  },
  {
   "cell_type": "markdown",
   "metadata": {},
   "source": [
    "The below cell loads the code of the aligner into the notebook, allowing more direct testing. Since the text of the code is loaded into the notebook, \\_\\_name\\_\\_ == \"\\_\\_main\\_\\_\" evaluates to true, which means this snippet will crash upon running since it's not passed any arguments. However, all the functions will be loaded, which is what we're actually after, so no harm done."
   ]
  },
  {
   "cell_type": "code",
   "execution_count": null,
   "metadata": {
    "collapsed": true
   },
   "outputs": [],
   "source": [
    "%load aligner.py"
   ]
  },
  {
   "cell_type": "markdown",
   "metadata": {},
   "source": [
    "Some simple test-cases:"
   ]
  },
  {
   "cell_type": "code",
   "execution_count": null,
   "metadata": {
    "collapsed": true
   },
   "outputs": [],
   "source": [
    "print(needle_affine('AAT', 'ACACT', gap = -1, opengap = -3, local_align = True))\n",
    "print(needle_affine('ARACCCWC', 'ARQAAWC', EMBOSS = True))\n",
    "print(needle_affine('AAAGAATTCA', 'AAATCA', EMBOSS = True))\n",
    "print(needle_affine('MVLSPADKTNVKAAWGKVGAHAGEYGAEALERMFLSFPTTKTYFPHFDLSHGSAQVKGHGKKVADALTNAVAHVDDMPNALSALSDLHAHKLRVDPVNFKLLSHCLLVTLAAHLPAEFTPAVHASLDKFLASVSTVLTSKYR', 'MVLSGEDKSNIKAAWGKIGGHGAEYGAEALERMFASFPTTKTYFPHFDVSHGSAQVKGHGKKVADALASAAGHLDDLPGALSALSDLHAHKLRVDPVNFKLLSHCLLVTLASHHPADFTPAVHASLDKFLASVSTVLTSKYR'))"
   ]
  },
  {
   "cell_type": "markdown",
   "metadata": {},
   "source": [
    "### Testing of Algorithm Optimization"
   ]
  },
  {
   "cell_type": "markdown",
   "metadata": {},
   "source": [
    "The line_profiler shows (in a popup) how much time is spent at each line of the function. For ease of reading, the test case is displayed in the cell below."
   ]
  },
  {
   "cell_type": "code",
   "execution_count": null,
   "metadata": {
    "collapsed": true
   },
   "outputs": [],
   "source": [
    "%load_ext line_profiler\n",
    "%lprun -f needle_affine needle_affine('MVLSPADKTNVKAAWGKVGAHAGEYGAEALERMFLSFPTTKTYFPHFDLSHGSAQVKGHGKKVADALTNAVAHVDDMPNALSALSDLHAHKLRVDPVNFKLLSHCLLVTLAAHLPAEFTPAVHASLDKFLASVSTVLTSKYR', 'MVLSGEDKSNIKAAWGKIGGHGAEYGAEALERMFASFPTTKTYFPHFDVSHGSAQVKGHGKKVADALASAAGHLDDLPGALSALSDLHAHKLRVDPVNFKLLSHCLLVTLASHHPADFTPAVHASLDKFLASVSTVLTSKYR')"
   ]
  },
  {
   "cell_type": "raw",
   "metadata": {},
   "source": [
    "Timer unit: 1e-06 s\n",
    "\n",
    "Total time: 1.1695 s\n",
    "File: <ipython-input-1-099a4b3cc815>\n",
    "Function: needle_affine at line 30\n",
    "\n",
    "Line #      Hits         Time  Per Hit   % Time  Line Contents\n",
    "==============================================================\n",
    "    30                                           def needle_affine(A, B, matrix = PAM250, gap = -1, opengap = -5, EMBOSS = False, global_align = True, local_align = False):\n",
    "    31                                               \"\"\"\n",
    "    32                                               Alignment implementation supporting both global and local alignments\n",
    "    33                                               When running with the EMBOSS flag set to True, two things change:\n",
    "    34                                                   - Gaps in the beginning and at the end of the sequence are not \n",
    "    35                                                     subject to the \"opengap\" penalty.\n",
    "    36                                                   - The penalty for extending a gap is not added when opening one\n",
    "    37                                               EMBOSS mode only works reliably with the global alignment mode.\n",
    "    38                                               \"\"\"\n",
    "    39         1          2.0      2.0      0.0      if local_align:\n",
    "    40                                                   global_align = False\n",
    "    41         1          2.0      2.0      0.0      maybe_gap = True\n",
    "    42         1          2.0      2.0      0.0      if EMBOSS:\n",
    "    43                                                   maybe_gap = False\n",
    "    44                                                   if not global_align:\n",
    "    45                                                       print('WARNING: EMBOSS mode only works reliably with global alignments.')\n",
    "    46                                               #Initialising\n",
    "    47         1        264.0    264.0      0.0      scores_matched = [[[-np.inf, (0, 0)]]*(len(B)+1) for i in range(len(A) + 1)]\n",
    "    48         1        288.0    288.0      0.0      scores_hgap = [[[-np.inf, (0, 0)]]*(len(B)+1) for i in range(len(A) + 1)]\n",
    "    49         1        718.0    718.0      0.1      scores_vgap = [[[-np.inf, (0, 0)]]*(len(B)+1) for i in range(len(A) + 1)]\n",
    "    50                                               #Filling first rows and columns\n",
    "    51         1          3.0      3.0      0.0      scores_matched[0][0] = [0, (0, 0)]\n",
    "    52       143        241.0      1.7      0.0      for i in range(1, len(A) + 1):\n",
    "    53       142        326.0      2.3      0.0          scores_hgap[i][0] = [opengap*maybe_gap + (i)*gap, (-1, 0)]\n",
    "    54       142        237.0      1.7      0.0          if not global_align:\n",
    "    55                                                       scores_matched[i][0] = [0, (0, 0)]\n",
    "    56       143        424.0      3.0      0.0      for j in range(1, len(B) + 1):\n",
    "    57       142        359.0      2.5      0.0          scores_vgap[0][j] = [opengap*maybe_gap + (j)*gap, (0, -1)]\n",
    "    58       142        233.0      1.6      0.0          if not global_align:\n",
    "    59                                                       scores_matched[0][j] = [0, (0, 0)]\n",
    "    60                                               #Filling the rest of the matrix\n",
    "    61         1          2.0      2.0      0.0      directions = [(-1, -1), (-1, 0), (0, -1), (0, 0)]\n",
    "    62         1          3.0      3.0      0.0      zero_option = -np.inf\n",
    "    63         1          1.0      1.0      0.0      if not global_align:\n",
    "    64                                                   zero_option = 0\n",
    "    65       143        203.0      1.4      0.0      for i in range(1, len(A)+1):\n",
    "    66     20306      31753.0      1.6      2.7          for j in range(1, len(B)+1):\n",
    "    67     20164      34499.0      1.7      2.9              options = [scores_matched[i-1][j-1][0],\n",
    "    68     20164      33772.0      1.7      2.9                         scores_hgap[i-1][j-1][0],\n",
    "    69     20164      33794.0      1.7      2.9                         scores_vgap[i-1][j-1][0],\n",
    "    70     20164      33549.0      1.7      2.9                         zero_option]\n",
    "    71     20164      47499.0      2.4      4.1              scores_matched[i][j] = [matrix[A[i-1]][B[j-1]] + max(options),\n",
    "    72     20164     250012.0     12.4     21.4                                      directions[np.argmax(options)]]\n",
    "    73     20164      39481.0      2.0      3.4              options = [scores_matched[i-1][j][0] + opengap + gap*maybe_gap,\n",
    "    74     20164      34502.0      1.7      3.0                         scores_hgap[i-1][j][0] + gap,\n",
    "    75     20164      37337.0      1.9      3.2                         -np.inf]\n",
    "    76     20164     236636.0     11.7     20.2              scores_hgap[i][j] = [max(options), directions[np.argmax(options)]]\n",
    "    77     20164      38869.0      1.9      3.3              options = [scores_matched[i][j-1][0] + opengap + gap*maybe_gap,\n",
    "    78     20164      32108.0      1.6      2.7                         -np.inf,\n",
    "    79     20164      39506.0      2.0      3.4                         scores_vgap[i][j-1][0] + gap]\n",
    "    80     20164     240618.0     11.9     20.6              scores_vgap[i][j] = [max(options), directions[np.argmax(options)]]\n",
    "    81                                               #Backtracking\n",
    "    82         1          2.0      2.0      0.0      out_A = ''\n",
    "    83         1          1.0      1.0      0.0      out_B = ''\n",
    "    84         1          3.0      3.0      0.0      pos = [len(A), len(B)]\n",
    "    85         1          1.0      1.0      0.0      if EMBOSS:\n",
    "    86                                                   scores_hgap[len(A)][len(B)][0] -= opengap\n",
    "    87                                                   scores_vgap[len(A)][len(B)][0] -= opengap\n",
    "    88         1          2.0      2.0      0.0      options = [scores_matched[len(A)][len(B)],\n",
    "    89         1          1.0      1.0      0.0                 scores_hgap[len(A)][len(B)],\n",
    "    90         1          2.0      2.0      0.0                 scores_vgap[len(A)][len(B)]]\n",
    "    91         1         14.0     14.0      0.0      current_matrix = [scores_matched, scores_hgap, scores_vgap][np.argmax([i[0] for i in options])]\n",
    "    92         1          1.0      1.0      0.0      if not global_align:\n",
    "    93                                                   current_matrix = scores_matched\n",
    "    94                                                   temp = np.asarray([[i[0] for i in j] for j in current_matrix])\n",
    "    95                                                   temp = np.unravel_index(np.argmax(temp), temp.shape)\n",
    "    96                                                   pos[0] = temp[0]\n",
    "    97                                                   pos[1] = temp[1]\n",
    "    98         1          2.0      2.0      0.0      step_pointers = {(-1, -1): scores_matched, (-1, 0): scores_hgap, (0, -1): scores_vgap, (0, 0): 'END'}\n",
    "    99         1          2.0      2.0      0.0      step = current_matrix[pos[0]][pos[1]]\n",
    "   100         1          1.0      1.0      0.0      final_score = step[0]\n",
    "   101         1          2.0      2.0      0.0      step = step[1]\n",
    "   102       143        222.0      1.6      0.0      while not step == (0, 0):\n",
    "   103                                                   # Processing data of current position\n",
    "   104       142        222.0      1.6      0.0          if not current_matrix == scores_vgap:\n",
    "   105       142        252.0      1.8      0.0              out_A += A[pos[0]-1]\n",
    "   106       142        234.0      1.6      0.0              pos[0] -= 1\n",
    "   107                                                   else:\n",
    "   108                                                       out_A += '-'\n",
    "   109       142        225.0      1.6      0.0          if not current_matrix == scores_hgap:\n",
    "   110       142        252.0      1.8      0.0              out_B += B[pos[1]-1]\n",
    "   111       142        243.0      1.7      0.0              pos[1] -= 1\n",
    "   112                                                   else:\n",
    "   113                                                       out_B += '-'\n",
    "   114                                                   # Getting new position\n",
    "   115       142        229.0      1.6      0.0          current_matrix = step_pointers[step]\n",
    "   116       142        338.0      2.4      0.0          step = current_matrix[pos[0]][pos[1]][1]\n",
    "   117         1          4.0      4.0      0.0      return out_A[::-1], out_B[::-1], final_score"
   ]
  },
  {
   "cell_type": "markdown",
   "metadata": {},
   "source": [
    "As can be seen above, the backtracking takes barely any time at all compared to the filling in of the matrix, so working on it would produce negliable differences in performance. The most time-consuming step of the calculations seem to be using numpy's argmax function. Of course, the way its done here, taking max() and the np.argmax() on the same statement, is inefficient, making the approximately same calculation multiple times. Since the in-built max() function works on the first element of each sub-list if there are sub-lists, an implementation using it instead might be faster:"
   ]
  },
  {
   "cell_type": "code",
   "execution_count": null,
   "metadata": {},
   "outputs": [],
   "source": [
    "%load aligner_optimized.py"
   ]
  },
  {
   "cell_type": "code",
   "execution_count": null,
   "metadata": {
    "collapsed": true
   },
   "outputs": [],
   "source": [
    "%load_ext line_profiler\n",
    "%lprun -f needle_affine needle_affine('MVLSPADKTNVKAAWGKVGAHAGEYGAEALERMFLSFPTTKTYFPHFDLSHGSAQVKGHGKKVADALTNAVAHVDDMPNALSALSDLHAHKLRVDPVNFKLLSHCLLVTLAAHLPAEFTPAVHASLDKFLASVSTVLTSKYR', 'MVLSGEDKSNIKAAWGKIGGHGAEYGAEALERMFASFPTTKTYFPHFDVSHGSAQVKGHGKKVADALASAAGHLDDLPGALSALSDLHAHKLRVDPVNFKLLSHCLLVTLASHHPADFTPAVHASLDKFLASVSTVLTSKYR')"
   ]
  },
  {
   "cell_type": "raw",
   "metadata": {},
   "source": [
    "Timer unit: 1e-06 s\n",
    "\n",
    "Total time: 0.622503 s\n",
    "File: <ipython-input-19-a34aad47bf48>\n",
    "Function: needle_affine at line 30\n",
    "\n",
    "Line #      Hits         Time  Per Hit   % Time  Line Contents\n",
    "==============================================================\n",
    "    30                                           def needle_affine(A, B, matrix = PAM250, gap = -1, opengap = -5, EMBOSS = False, global_align = True, local_align = False):\n",
    "    31                                               \"\"\"\n",
    "    32                                               Alignment implementation supporting both global and local alignments\n",
    "    33                                               When running with the EMBOSS flag set to True, two things change:\n",
    "    34                                                   - Gaps in the beginning and at the end of the sequence are not \n",
    "    35                                                     subject to the \"opengap\" penalty.\n",
    "    36                                                   - The penalty for extending a gap is not added when opening one\n",
    "    37                                               EMBOSS mode only works reliably with the global alignment mode.\n",
    "    38                                               \"\"\"\n",
    "    39         1          3.0      3.0      0.0      if local_align:\n",
    "    40                                                   global_align = False\n",
    "    41         1          2.0      2.0      0.0      maybe_gap = True\n",
    "    42         1          2.0      2.0      0.0      if EMBOSS:\n",
    "    43                                                   maybe_gap = False\n",
    "    44                                                   if not global_align:\n",
    "    45                                                       print('WARNING: EMBOSS mode only works reliably with global alignments.')\n",
    "    46                                               #Initialising\n",
    "    47         1        157.0    157.0      0.0      scores_matched = [[[-np.inf, (0, 0)]]*(len(B)+1) for i in range(len(A) + 1)]\n",
    "    48         1        151.0    151.0      0.0      scores_hgap = [[[-np.inf, (0, 0)]]*(len(B)+1) for i in range(len(A) + 1)]\n",
    "    49         1        691.0    691.0      0.1      scores_vgap = [[[-np.inf, (0, 0)]]*(len(B)+1) for i in range(len(A) + 1)]\n",
    "    50                                               #Filling first rows and columns\n",
    "    51         1          3.0      3.0      0.0      scores_matched[0][0] = [0, (0, 0)]\n",
    "    52       143        263.0      1.8      0.0      for i in range(1, len(A) + 1):\n",
    "    53       142        341.0      2.4      0.1          scores_hgap[i][0] = [opengap*maybe_gap + (i)*gap, (-1, 0)]\n",
    "    54       142        262.0      1.8      0.0          if not global_align:\n",
    "    55                                                       scores_matched[i][0] = [0, (0, 0)]\n",
    "    56       143        350.0      2.4      0.1      for j in range(1, len(B) + 1):\n",
    "    57       142        355.0      2.5      0.1          scores_vgap[0][j] = [opengap*maybe_gap + (j)*gap, (0, -1)]\n",
    "    58       142        275.0      1.9      0.0          if not global_align:\n",
    "    59                                                       scores_matched[0][j] = [0, (0, 0)]\n",
    "    60                                               #Filling the rest of the matrix\n",
    "    61         1          4.0      4.0      0.0      zero_option = -np.inf\n",
    "    62         1          3.0      3.0      0.0      if not global_align:\n",
    "    63                                                   zero_option = 0\n",
    "    64       143        231.0      1.6      0.0      for i in range(1, len(A)+1):\n",
    "    65     20306      32618.0      1.6      5.2          for j in range(1, len(B)+1):\n",
    "    66     20164      48217.0      2.4      7.7              options = [[matrix[A[i-1]][B[j-1]] + scores_matched[i-1][j-1][0], (-1, -1)],\n",
    "    67     20164      47526.0      2.4      7.6                         [matrix[A[i-1]][B[j-1]] + scores_hgap[i-1][j-1][0], (-1, 0)],\n",
    "    68     20164      48110.0      2.4      7.7                         [matrix[A[i-1]][B[j-1]] + scores_vgap[i-1][j-1][0], (0, -1)],\n",
    "    69     20164      42829.0      2.1      6.9                         [zero_option, (0, 0)]]\n",
    "    70     20164      62060.0      3.1     10.0              scores_matched[i][j] = max(options)\n",
    "    71     20164      42138.0      2.1      6.8              options = [[scores_matched[i-1][j][0] + opengap + gap*maybe_gap, (-1, -1)],\n",
    "    72     20164      39478.0      2.0      6.3                         [scores_hgap[i-1][j][0] + gap, (-1, 0)],\n",
    "    73     20164      44701.0      2.2      7.2                         [-np.inf, (0, -1)]]\n",
    "    74     20164      42763.0      2.1      6.9              scores_hgap[i][j] = max(options)\n",
    "    75     20164      42004.0      2.1      6.7              options = [[scores_matched[i][j-1][0] + opengap + gap*maybe_gap, (-1, -1)],\n",
    "    76     20164      36667.0      1.8      5.9                         [-np.inf, (-1, 0)],\n",
    "    77     20164      45407.0      2.3      7.3                         [scores_vgap[i][j-1][0] + gap, (0, -1)]]\n",
    "    78     20164      42553.0      2.1      6.8              scores_vgap[i][j] = max(options)\n",
    "    79                                               #Backtracking\n",
    "    80         1          2.0      2.0      0.0      out_A = ''\n",
    "    81         1          1.0      1.0      0.0      out_B = ''\n",
    "    82         1          3.0      3.0      0.0      pos = [len(A), len(B)]\n",
    "    83         1          1.0      1.0      0.0      if EMBOSS:\n",
    "    84                                                   scores_hgap[len(A)][len(B)][0] -= opengap\n",
    "    85                                                   scores_vgap[len(A)][len(B)][0] -= opengap\n",
    "    86         1          1.0      1.0      0.0      options = [scores_matched[len(A)][len(B)],\n",
    "    87         1          1.0      1.0      0.0                 scores_hgap[len(A)][len(B)],\n",
    "    88         1          2.0      2.0      0.0                 scores_vgap[len(A)][len(B)]]\n",
    "    89         1         42.0     42.0      0.0      current_matrix = [scores_matched, scores_hgap, scores_vgap][np.argmax([i[0] for i in options])]\n",
    "    90         1          1.0      1.0      0.0      if not global_align:\n",
    "    91                                                   current_matrix = scores_matched\n",
    "    92                                                   temp = np.asarray([[i[0] for i in j] for j in current_matrix])\n",
    "    93                                                   temp = np.unravel_index(np.argmax(temp), temp.shape)\n",
    "    94                                                   pos[0] = temp[0]\n",
    "    95                                                   pos[1] = temp[1]\n",
    "    96         1          3.0      3.0      0.0      step_pointers = {(-1, -1): scores_matched, (-1, 0): scores_hgap, (0, -1): scores_vgap, (0, 0): 'END'}\n",
    "    97         1          2.0      2.0      0.0      step = current_matrix[pos[0]][pos[1]]\n",
    "    98         1          2.0      2.0      0.0      final_score = step[0]\n",
    "    99         1          1.0      1.0      0.0      step = step[1]\n",
    "   100       143        229.0      1.6      0.0      while not step == (0, 0):\n",
    "   101                                                   # Processing data of current position\n",
    "   102       142        256.0      1.8      0.0          if not current_matrix == scores_vgap:\n",
    "   103       142        267.0      1.9      0.0              out_A += A[pos[0]-1]\n",
    "   104       142        249.0      1.8      0.0              pos[0] -= 1\n",
    "   105                                                   else:\n",
    "   106                                                       out_A += '-'\n",
    "   107       142        229.0      1.6      0.0          if not current_matrix == scores_hgap:\n",
    "   108       142        256.0      1.8      0.0              out_B += B[pos[1]-1]\n",
    "   109       142        247.0      1.7      0.0              pos[1] -= 1\n",
    "   110                                                   else:\n",
    "   111                                                       out_B += '-'\n",
    "   112                                                   # Getting new position\n",
    "   113       142        230.0      1.6      0.0          current_matrix = step_pointers[step]\n",
    "   114       142        311.0      2.2      0.0          step = current_matrix[pos[0]][pos[1]][1]\n",
    "   115         1          3.0      3.0      0.0      return out_A[::-1], out_B[::-1], final_score"
   ]
  },
  {
   "cell_type": "markdown",
   "metadata": {},
   "source": [
    "As we can see, this sped up the algorithm considerably. Revisiting the test cases above confirms that the alignments produced are just as good as before, although the new version tends to choose different routes."
   ]
  },
  {
   "cell_type": "markdown",
   "metadata": {},
   "source": [
    "### Complexity Estimation (big Oh)\n",
    "The line_profiler helpfully includes the number of times any individual line was hit, making Ordo calculations simple.\n",
    "\n",
    "As can be seen from the line_profiler result, the lines are either hit $1$, $n$, $n+1$, $n^{2}$, or $n^{2}+1$ times each ($n=m=142$ in the example run), meaning the complexity is implied to be $O(nm)$, $O(n^{2})$, or $O(m^{2})$. In this case, it would be $O(nm)$, considering the complexity depends on the two for-loops with length $n$ and $m$ respectively.\n",
    "\n",
    "Of course, it is the worst case scenario that should set the complexity, and in this case the worst case scenario would be that nothing aligns, and just having series of gaps aligned to each other. This however would just affect the traceback step (as the full matrices still need to be calculated), and the complexity of the traceback would become $n+m$ which does not affect the overall complexity."
   ]
  },
  {
   "cell_type": "markdown",
   "metadata": {},
   "source": [
    "## Runtime analysis\n",
    "Random sequences of varying lengths are generated and the run-time of the aligner is analysed for each one"
   ]
  },
  {
   "cell_type": "code",
   "execution_count": 2,
   "metadata": {
    "collapsed": true
   },
   "outputs": [],
   "source": [
    "import random\n",
    "import time\n",
    "import numpy as np\n",
    "residues = 'ACDEFGHIKLMNPQRSTVWY'\n",
    "times = []\n",
    "length_range = range(5, 300, 20)\n",
    "for l in length_range:\n",
    "    timelist = []\n",
    "    for i in range(100):\n",
    "        sequences = (''.join([random.choice(residues) for i in range(l)]), ''.join([random.choice(residues) for i in range(l)]))\n",
    "        start = time.time()\n",
    "        alignment = needle_affine(sequences[0], sequences[1])\n",
    "        timelist.append(time.time() - start)\n",
    "    times.append([np.mean(timelist), np.std(timelist)])\n",
    "times_mean, times_std = zip(*times)"
   ]
  },
  {
   "cell_type": "code",
   "execution_count": 15,
   "metadata": {},
   "outputs": [
    {
     "data": {
      "image/png": "[encoded data removed]",
      "text/plain": [
       "<Figure size 432x288 with 1 Axes>"
      ]
     },
     "metadata": {},
     "output_type": "display_data"
    }
   ],
   "source": [
    "%matplotlib inline\n",
    "import matplotlib.pyplot as plt\n",
    "from matplotlib import style\n",
    "style.use('ggplot')\n",
    "import scipy.optimize as opt\n",
    "\n",
    "plt.errorbar(length_range, times_mean, yerr = times_std, label = 'Raw data')\n",
    "z = np.polyfit(length_range, times_mean, 2)\n",
    "f = np.poly1d(z)\n",
    "plt.plot(length_range, f(length_range), label=\"Fitted 2nd degree curve\")\n",
    "plt.legend()\n",
    "plt.xlabel('Length of Sequences')\n",
    "plt.ylabel('Runtime (s)')\n",
    "plt.savefig('timefig.pdf')\n",
    "plt.show()"
   ]
  }
 ],
 "metadata": {
  "kernelspec": {
   "display_name": "Python [conda env:TensorFlow]",
   "language": "python",
   "name": "conda-env-TensorFlow-py"
  },
  "language_info": {
   "codemirror_mode": {
    "name": "ipython",
    "version": 3
   },
   "file_extension": ".py",
   "mimetype": "text/x-python",
   "name": "python",
   "nbconvert_exporter": "python",
   "pygments_lexer": "ipython3",
   "version": "3.5.5"
  }
 },
 "nbformat": 4,
 "nbformat_minor": 2
}
